{
 "cells": [
  {
   "cell_type": "markdown",
   "metadata": {},
   "source": [
    "## 피보나치 다이나믹 프로그래밍으로 구현해보기"
   ]
  },
  {
   "cell_type": "code",
   "execution_count": null,
   "metadata": {},
   "outputs": [],
   "source": [
    "# 일반 재귀형\n",
    "def fib_naive(n):\n",
    "    if n <= 1 :\n",
    "        return n\n",
    "    return fib_naive(n-1) + fib_naive(n-2)"
   ]
  },
  {
   "cell_type": "code",
   "execution_count": 7,
   "metadata": {},
   "outputs": [],
   "source": [
    "# Memoization(Top-down DP)\n",
    "memo={} #계산 결과를 저장할 빈 딕셔너리 생성\n",
    "\n",
    "def fib_memo(n):\n",
    "    if n in memo: # n이 딕셔너리 키에 존재한다면(이미 계산한값)\n",
    "        return memo[n]\n",
    "    # 베이스 케이스\n",
    "    if n <=1 :\n",
    "        result = n\n",
    "    else :\n",
    "        result = fib_memo(n-1) + fib_memo(n-2) #재귀 호출\n",
    "    memo[n] = result # 결과 저장 및 반환\n",
    "    return result\n",
    "# 시간 복잡도 : O(n)\n",
    "# 공간 복잡도 : O(n) 메모 + 재귀 호출 스택 , 메모리를 써서 시간 복잡도를 줄인것"
   ]
  },
  {
   "cell_type": "code",
   "execution_count": 9,
   "metadata": {},
   "outputs": [
    {
     "name": "stdout",
     "output_type": "stream",
     "text": [
      "139423224561697880139724382870407283950070256587697307264108962948325571622863290691557658876222521294125\n"
     ]
    }
   ],
   "source": [
    "print(fib_memo(500))"
   ]
  },
  {
   "cell_type": "markdown",
   "metadata": {},
   "source": [
    "**딕셔너리 (dict)**는 일반적인 메모이제이션 상황에 더 유연하고 편리합니다. 최대 크기를 미리 알 필요 없고, 다양한 형태의 키를 사용할 수 있으며, 실제로 계산된 값만 저장하여 희소한 데이터에 효율적입니다. 피보나치 예제처럼 키가 단순 정수라도, n의 최대 크기가 가변적이거나 클 수 있는 상황에서는 딕셔너리가 더 나은 선택일 수 있습니다.\n",
    "**리스트 (list)**는 키가 0부터 시작하는 밀집된(dense) 정수 범위이고, 최대 크기를 예측할 수 있을 때 좋은 성능과 메모리 효율성을 보일 수 있습니다. 동적 계획법의 타뷸레이션(Tabulation, Bottom-up) 방식에서는 보통 결과를 저장하는 dp 테이블로 리스트나 배열을 많이 사용하는데, 이는 작은 인덱스부터 순차적으로 계산해나가므로 리스트의 장점을 잘 활용할 수 있기 때문입니다."
   ]
  },
  {
   "cell_type": "code",
   "execution_count": 10,
   "metadata": {},
   "outputs": [],
   "source": [
    "#Tabulation(Bottom-up DP)\n",
    "\n",
    "def fib_tab(n):\n",
    "    if n <= 1 :\n",
    "        return n\n",
    "    # 결과를 저장할 리스트\n",
    "    dp = [0] * (n+1)\n",
    "    dp[0] = 0\n",
    "    dp[1] = 1\n",
    "    # 가장 작은 문제부터 풀어서 테이블 채우기\n",
    "    for i in range(2, n+1):\n",
    "        dp[i] = dp[i-1] +dp[i-2]\n",
    "    return dp[n]\n",
    "\n",
    "# 시간 복잡도: O(n) - 반복문 한 번\n",
    "# 공간 복잡도: O(n) - dp 테이블 크기"
   ]
  },
  {
   "cell_type": "code",
   "execution_count": 11,
   "metadata": {},
   "outputs": [
    {
     "name": "stdout",
     "output_type": "stream",
     "text": [
      "139423224561697880139724382870407283950070256587697307264108962948325571622863290691557658876222521294125\n"
     ]
    }
   ],
   "source": [
    "print(fib_tab(500))"
   ]
  },
  {
   "cell_type": "code",
   "execution_count": null,
   "metadata": {},
   "outputs": [],
   "source": []
  }
 ],
 "metadata": {
  "kernelspec": {
   "display_name": "Python 3",
   "language": "python",
   "name": "python3"
  },
  "language_info": {
   "codemirror_mode": {
    "name": "ipython",
    "version": 3
   },
   "file_extension": ".py",
   "mimetype": "text/x-python",
   "name": "python",
   "nbconvert_exporter": "python",
   "pygments_lexer": "ipython3",
   "version": "3.12.5"
  }
 },
 "nbformat": 4,
 "nbformat_minor": 2
}
